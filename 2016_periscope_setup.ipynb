{
 "cells": [
  {
   "cell_type": "markdown",
   "metadata": {},
   "source": [
    "# Periscope Correction Current State"
   ]
  },
  {
   "cell_type": "markdown",
   "metadata": {},
   "source": [
    "In 2010, 15 observations with both relatively bright sources and larger periscope gradient changes were used to generate a periscope gradient calibration.  This calibration was applied as a correction to the fiducial light positions directly.  See http://occweb.cfa.harvard.edu/twiki/Aspect/PeriscopeTilt  This correction is applied as part of current processing and was applied to historical observations as part of ReproIV efforts.\n",
    "\n",
    "As mentioned, however, the correction was only calibrated with 15 observations with larger drifts, and current anecdotal observations 6 years later demonstrate uncorrected periscope drift effects.  So, to start, we want to gather new data and evaluate the \"goodness\" of the 2010 calibration against new data.  To do so we:\n",
    "\n",
    " - Get a new data set with both relatively on-axis bright point sources and large(r) expected periscope drifts\n",
    " - Evaluate X-ray event drift in Y and Z in this data set\n",
    " "
   ]
  },
  {
   "cell_type": "markdown",
   "metadata": {},
   "source": [
    "## Get new data set"
   ]
  },
  {
   "cell_type": "code",
   "execution_count": 49,
   "metadata": {
    "collapsed": false
   },
   "outputs": [
    {
     "name": "stdout",
     "output_type": "stream",
     "text": [
      "Populating the interactive namespace from numpy and matplotlib\n"
     ]
    }
   ],
   "source": [
    "%pylab inline\n",
    "import os\n",
    "from IPython.display import Image\n",
    "from astropy.table import Table\n",
    "import cPickle"
   ]
  },
  {
   "cell_type": "markdown",
   "metadata": {},
   "source": [
    "Run code that finds \"tilted\" observations, runs celldetect, gets the brightest source that is also pretty-much on-axis, and extracts events in a circular region around those sources.  The on-axis limit is set at a radial distance of 180 pixels."
   ]
  },
  {
   "cell_type": "code",
   "execution_count": 1,
   "metadata": {
    "collapsed": false
   },
   "outputs": [
    {
     "name": "stderr",
     "output_type": "stream",
     "text": [
      "WARNING: UnitsWarning: 'count/s/pixel' contains multiple slashes, which is discouraged by the FITS standard [astropy.units.format.generic]\n",
      "WARNING:astropy:UnitsWarning: 'count/s/pixel' contains multiple slashes, which is discouraged by the FITS standard\n"
     ]
    },
    {
     "name": "stdout",
     "output_type": "stream",
     "text": [
      "Fetching obsids using query 'select obsid from obs_periscope_tilt where max_oobagrd3 - min_oobagrd3 > .125 order by (max_oobagrd3 - min_oobagrd3) desc'\n",
      "Looking for sources in these 281 observations\n",
      "Retrieved sources for 249 observations\n"
     ]
    }
   ],
   "source": [
    "import tilt.find_sources\n",
    "tilt.find_sources.get_xray_data()"
   ]
  },
  {
   "cell_type": "markdown",
   "metadata": {},
   "source": [
    "Run one script that makes ds9 preview images of the sources, and another that quickly lets one manually review those images.  review_images is set to only review sources that show up with 2500 counts or more."
   ]
  },
  {
   "cell_type": "code",
   "execution_count": null,
   "metadata": {
    "collapsed": true
   },
   "outputs": [],
   "source": [
    "# run tilt/make_check_images.py\n",
    "# run tilt/review_images.py"
   ]
  },
  {
   "cell_type": "markdown",
   "metadata": {},
   "source": [
    "For each source, we have several useful files in the obsid directories.  \n",
    "\n",
    "- picked_src.dat information from celldetect about the picked/selected source\n",
    "- point_source.fits dmcopy/extracted region of events from evt2 file from the observation\n",
    "- point_stat.dat text file with True or False indicating point-source-ness from manual review\n",
    "- released_pos.pkl Y,Z positions of events in the circular region extracted around the source"
   ]
  },
  {
   "cell_type": "code",
   "execution_count": 2,
   "metadata": {
    "collapsed": false
   },
   "outputs": [
    {
     "name": "stdout",
     "output_type": "stream",
     "text": [
      "17128_src2.fits       center.reg    picked_src.dat     pos.pkl\r\n",
      "bin_mean_10k_yag.pkl  ds9_src.png   point_source.fits  released_pos.pkl\r\n",
      "bin_mean_10k_zag.pkl  evtinfo.json  point_stat.dat     tilt.pkl\r\n"
     ]
    }
   ],
   "source": [
    "!ls auto/obs17128"
   ]
  },
  {
   "cell_type": "markdown",
   "metadata": {},
   "source": [
    "And a master file with the sources"
   ]
  },
  {
   "cell_type": "code",
   "execution_count": 14,
   "metadata": {
    "collapsed": false
   },
   "outputs": [
    {
     "name": "stdout",
     "output_type": "stream",
     "text": [
      "obsid   NET_COUNTS  point_source\n",
      "----- ------------- ------------\n",
      "17128 5794.57128906         True\n"
     ]
    }
   ],
   "source": [
    "srcs = Table.read('src_table.dat', format='ascii')\n",
    "print srcs[['obsid','NET_COUNTS','point_source']][:1]"
   ]
  },
  {
   "cell_type": "markdown",
   "metadata": {},
   "source": [
    "## Evaluate "
   ]
  },
  {
   "cell_type": "code",
   "execution_count": 21,
   "metadata": {
    "collapsed": true
   },
   "outputs": [],
   "source": [
    "# this would probably be nicer with scipy.stats.binned_statistic, but that doesn't\n",
    "# give me nice error bars, and this was hanging around\n",
    "def binned_mean(data, evtstime, tbin=10000.):\n",
    "    ts = []\n",
    "    ds = []\n",
    "    dsminus = []\n",
    "    dsplus = []\n",
    "    for win_start in range(0,\n",
    "                           int(evtstime[-1]-evtstime[0])-int(tbin),\n",
    "                           int(tbin)):\n",
    "        tmask = ((evtstime-evtstime[0] >= win_start)\n",
    "                 & (evtstime-evtstime[0] < win_start + int(tbin)))\n",
    "        range_data = data[tmask]\n",
    "        range_time = evtstime[tmask]\n",
    "        if np.std(range_data) > 0:\n",
    "            ds.append(np.mean(range_data))\n",
    "            dsminus.append(np.std(range_data)/np.sqrt(len(range_data)))\n",
    "            dsplus.append(np.std(range_data)/np.sqrt(len(range_data)))\n",
    "            t = np.mean(range_time)\n",
    "            ts.append(t)\n",
    "    return [ts, ds, dsminus, dsplus]"
   ]
  },
  {
   "cell_type": "markdown",
   "metadata": {},
   "source": [
    "First, here's a demo image of one of these 'pointy' sources:"
   ]
  },
  {
   "cell_type": "code",
   "execution_count": 99,
   "metadata": {
    "collapsed": false
   },
   "outputs": [
    {
     "data": {
      "image/png": "[encoded data removed]",
      "text/plain": [
       "<IPython.core.display.Image object>"
      ]
     },
     "execution_count": 99,
     "metadata": {},
     "output_type": "execute_result"
    }
   ],
   "source": [
    "obsid = 17128\n",
    "Image(\"auto/obs{:05d}/ds9_src.png\".format(obsid))"
   ]
  },
  {
   "cell_type": "markdown",
   "metadata": {},
   "source": [
    "And if we plot up the Y-angle position of the events binned by time there does appear to be drift."
   ]
  },
  {
   "cell_type": "code",
   "execution_count": 100,
   "metadata": {
    "collapsed": false
   },
   "outputs": [
    {
     "data": {
      "image/png": "[encoded data removed]",
      "text/plain": [
       "<matplotlib.figure.Figure at 0x7fcd12e1ff90>"
      ]
     },
     "metadata": {},
     "output_type": "display_data"
    }
   ],
   "source": [
    "obsid = 17128\n",
    "pos = cPickle.load(open('auto/obs{:05d}/released_pos.pkl'.format(obsid)))\n",
    "ts, ds, dsminus, dsplus = binned_mean(pos['yag'], pos['time'], 5000)\n",
    "errorbar(ts, ds, yerr=dsminus, linestyle='');\n",
    "ylabel('event y-angle (arcsec)')\n",
    "margins(x=.1)\n",
    "title('obsid {} y-angle of src (5ks bins)'.format(obsid));"
   ]
  },
  {
   "cell_type": "markdown",
   "metadata": {},
   "source": [
    "We basically care about this in aggregate for this whole source set, about each sources mean position.  First, just this source:"
   ]
  },
  {
   "cell_type": "code",
   "execution_count": 101,
   "metadata": {
    "collapsed": false
   },
   "outputs": [
    {
     "data": {
      "image/png": "[encoded data removed]",
      "text/plain": [
       "<matplotlib.figure.Figure at 0x7fcd12bcea10>"
      ]
     },
     "metadata": {},
     "output_type": "display_data"
    }
   ],
   "source": [
    "hist(ds - np.mean(ds), bins=arange(-.5, .5, .05), log=True);"
   ]
  },
  {
   "cell_type": "code",
   "execution_count": 102,
   "metadata": {
    "collapsed": false
   },
   "outputs": [],
   "source": [
    "# then all of the sources we've marked as point sources thus far with NET_COUNTS > 2500\n",
    "residuals = []\n",
    "obsids = []\n",
    "binsize = 5000\n",
    "ax = 'yag'\n",
    "for obsid in srcs[(srcs['NET_COUNTS'] > 2500) & (srcs['point_source'] == 'True')]['obsid']:\n",
    "    pkl = 'auto/obs{:05d}/released_pos.pkl'.format(obsid)\n",
    "    if not os.path.exists(pkl):\n",
    "        continue\n",
    "    pos = cPickle.load(open(pkl))\n",
    "    ts, ds, dsminus, dsplus = binned_mean(pos[ax], pos['time'], binsize)\n",
    "    residuals.extend((ds - np.mean(ds)).tolist())\n",
    "    obsids.extend(np.repeat(obsid, len(ds)))\n",
    "obsids = np.array(obsids)\n",
    "residuals = np.array(residuals)"
   ]
  },
  {
   "cell_type": "code",
   "execution_count": 105,
   "metadata": {
    "collapsed": false
   },
   "outputs": [
    {
     "data": {
      "image/png": "[encoded data removed]",
      "text/plain": [
       "<matplotlib.figure.Figure at 0x7fcd12f66f10>"
      ]
     },
     "metadata": {},
     "output_type": "display_data"
    }
   ],
   "source": [
    "step = 0.025\n",
    "hist(residuals, bins=arange(np.min(residuals), np.max(residuals) + step, step), log=True);"
   ]
  },
  {
   "cell_type": "code",
   "execution_count": 107,
   "metadata": {
    "collapsed": false
   },
   "outputs": [],
   "source": [
    "last_cal_observations = [10062, 10227, 10228, 11075, 11260, 11688, 11823, 12088, 5003,\n",
    "                         7077, 7079, 8922, 9133, 9218, 9407, 9532]"
   ]
  },
  {
   "cell_type": "code",
   "execution_count": 118,
   "metadata": {
    "collapsed": false
   },
   "outputs": [],
   "source": [
    "from Ska.DBI import DBI\n",
    "sqlaca = DBI(dbi='sybase', server='sybase', user='aca_read')\n",
    "old_gradients = sqlaca.fetchall(\"\"\"select obsid, max_oobagrd3 - min_oobagrd3 as grad_diff\n",
    "from obs_periscope_tilt\n",
    "where obsid in ({})\"\"\".format(\",\".join([str(o) for o in last_cal_observations])))"
   ]
  },
  {
   "cell_type": "code",
   "execution_count": 121,
   "metadata": {
    "collapsed": false
   },
   "outputs": [
    {
     "data": {
      "image/png": "[encoded data removed]",
      "text/plain": [
       "<matplotlib.figure.Figure at 0x7fcd12bdd7d0>"
      ]
     },
     "metadata": {},
     "output_type": "display_data"
    }
   ],
   "source": [
    "hist(old_gradients['grad_diff']);"
   ]
  },
  {
   "cell_type": "code",
   "execution_count": 127,
   "metadata": {
    "collapsed": false
   },
   "outputs": [],
   "source": [
    "cal_srcs = srcs[(srcs['NET_COUNTS'] > 2500) & (srcs['point_source'] == 'True')]\n",
    "all_gradients = sqlaca.fetchall(\"\"\"select max_oobagrd3 - min_oobagrd3 as grad_diff\n",
    "from obs_periscope_tilt\n",
    "where obsid in ({})\"\"\".format(\",\".join([str(o) for o in cal_srcs['obsid']])))"
   ]
  },
  {
   "cell_type": "code",
   "execution_count": 128,
   "metadata": {
    "collapsed": false
   },
   "outputs": [
    {
     "data": {
      "image/png": "[encoded data removed]",
      "text/plain": [
       "<matplotlib.figure.Figure at 0x7fcd130e0650>"
      ]
     },
     "metadata": {},
     "output_type": "display_data"
    }
   ],
   "source": [
    "hist(all_gradients['grad_diff'], log=True);"
   ]
  },
  {
   "cell_type": "markdown",
   "metadata": {},
   "source": [
    "So, we confirm that there are both uncorrected offsets and a much larger range of periscope drifts available."
   ]
  },
  {
   "cell_type": "markdown",
   "metadata": {},
   "source": [
    "## Setup for new fit"
   ]
  },
  {
   "cell_type": "markdown",
   "metadata": {},
   "source": [
    "Because all of the current solutions are already corrected, we can either fit for an additive correction on the current model, or we can back out the current correction and fit new terms on \"raw\" data.  I have preferred the second.  There are actually two ways to kind of get at the \"raw\" data.  The strict method would be to rerun the aspect pipeline on all observations with the periscope correction disabled, and then repeat this source extraction.  A more time-efficient method is to reverse the correction on the X-ray event Y and Z positions directly, which is what I have done.  I have, however, confirmed that the positions via this direct method are very very close to what you get if you run acis_process_events on these events using an aspect solution with the periscope correction disabled.  Let's walk through that."
   ]
  },
  {
   "cell_type": "markdown",
   "metadata": {},
   "source": []
  }
 ],
 "metadata": {
  "kernelspec": {
   "display_name": "Python 2",
   "language": "python",
   "name": "python2"
  },
  "language_info": {
   "codemirror_mode": {
    "name": "ipython",
    "version": 2
   },
   "file_extension": ".py",
   "mimetype": "text/x-python",
   "name": "python",
   "nbconvert_exporter": "python",
   "pygments_lexer": "ipython2",
   "version": "2.7.9"
  }
 },
 "nbformat": 4,
 "nbformat_minor": 0
}
