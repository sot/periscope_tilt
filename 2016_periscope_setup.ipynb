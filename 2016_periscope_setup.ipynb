{
 "cells": [
  {
   "cell_type": "markdown",
   "metadata": {},
   "source": [
    "# Periscope Correction Current State"
   ]
  },
  {
   "cell_type": "markdown",
   "metadata": {},
   "source": [
    "In 2010, 15 observations with both relatively bright sources and larger periscope gradient changes were used to generate a periscope gradient calibration.  This calibration was applied as a correction to the fiducial light positions directly.  See http://occweb.cfa.harvard.edu/twiki/Aspect/PeriscopeTilt  This correction is applied as part of current processing and was applied to historical observations as part of ReproIV efforts.\n",
    "\n",
    "As mentioned, however, the correction was only calibrated with 15 observations with larger drifts, and current anecdotal observations 6 years later demonstrate uncorrected periscope drift effects.  So, to start, we want to gather new data and evaluate the \"goodness\" of the 2010 calibration against new data.  To do so we:\n",
    "\n",
    " - Get a new data set with both relatively on-axis bright point sources and large(r) expected periscope drifts\n",
    " - Evaluate X-ray event drift in Y and Z in this data set\n",
    " "
   ]
  },
  {
   "cell_type": "markdown",
   "metadata": {},
   "source": [
    "## Get new data set"
   ]
  },
  {
   "cell_type": "code",
   "execution_count": 1,
   "metadata": {
    "collapsed": false
   },
   "outputs": [
    {
     "name": "stdout",
     "output_type": "stream",
     "text": [
      "Populating the interactive namespace from numpy and matplotlib\n"
     ]
    }
   ],
   "source": [
    "%pylab notebook\n",
    "import os\n",
    "from IPython.display import Image\n",
    "from astropy.table import Table\n",
    "import cPickle\n",
    "from Ska.DBI import DBI"
   ]
  },
  {
   "cell_type": "code",
   "execution_count": 2,
   "metadata": {
    "collapsed": true
   },
   "outputs": [],
   "source": [
    "workdir = '/data/aca/analysis/periscope_tilt_2016'"
   ]
  },
  {
   "cell_type": "markdown",
   "metadata": {},
   "source": [
    "Run code that finds \"tilted\" observations, runs celldetect, gets the brightest source that is also pretty-much on-axis, and extracts events in a circular region around those sources.  The on-axis limit is set at a radial distance of 180 pixels."
   ]
  },
  {
   "cell_type": "code",
   "execution_count": 3,
   "metadata": {
    "collapsed": false
   },
   "outputs": [],
   "source": [
    "sqlaca = DBI(dbi='sybase', server='sybase', user='aca_read')\n",
    "tilted_obs = sqlaca.fetchall(\"\"\"select obsid from obs_periscope_tilt\n",
    "where max_oobagrd3 - min_oobagrd3 > 0.09 order by (max_oobagrd3 - min_oobagrd3) desc\"\"\")\n",
    "just_long = sqlaca.fetchall(\"\"\"select obsid from observations\n",
    "where kalman_tstop - kalman_tstart > 80000 \n",
    "and kalman_datestart > '2004'\n",
    "order by kalman_tstart\"\"\")"
   ]
  },
  {
   "cell_type": "code",
   "execution_count": null,
   "metadata": {
    "collapsed": false
   },
   "outputs": [
    {
     "data": {
      "text/plain": [
       "566"
      ]
     },
     "execution_count": 4,
     "metadata": {},
     "output_type": "execute_result"
    }
   ],
   "source": [
    "len(just_long)"
   ]
  },
  {
   "cell_type": "code",
   "execution_count": null,
   "metadata": {
    "collapsed": false
   },
   "outputs": [
    {
     "name": "stderr",
     "output_type": "stream",
     "text": [
      "WARNING: UnitsWarning: 'count/s/pixel' contains multiple slashes, which is discouraged by the FITS standard [astropy.units.format.generic]\n",
      "WARNING:astropy:UnitsWarning: 'count/s/pixel' contains multiple slashes, which is discouraged by the FITS standard\n"
     ]
    },
    {
     "name": "stdout",
     "output_type": "stream",
     "text": [
      "Remaking /proj/sot/ska/analysis/periscope_tilt_2016/auto/obs09148/point_source.fits\n",
      "making released_pos.pkl for 9148"
     ]
    },
    {
     "name": "stderr",
     "output_type": "stream",
     "text": [
      "WARNING: hdu= was not specified but multiple tables are present, reading in first available table (hdu=1) [astropy.io.fits.connect]\n",
      "WARNING:astropy:hdu= was not specified but multiple tables are present, reading in first available table (hdu=1)\n"
     ]
    },
    {
     "name": "stdout",
     "output_type": "stream",
     "text": [
      "\n",
      "{'dec_pnt': -0.01468732104276346, 'ccds4_on': 'Y', 'roll_pnt': 312.1566290001749, 'ccdi1_on': 'N', 'readmode': 'TIMED', 'datamode': 'FAINT', 'kalman_done': 1, 'date_end': '2008-12-06T07:17:53', 'dither_y_freq': None, 'z_det_offset': -0.25, 'ra_pnt': 40.67423912788944, 'sched_exp_time': 80700.0, 'obsid': 9148, 'si_mode': 'TE_0036C', 'obi_num': 0, 'obsid_datestart': '2008:340:08:04:55.300', 'ccds1_on': 'Y', 'num_ccd_on': 6, 'obs_mode': 'POINTING', 'dither_z_phase': None, 'dec_targ': -0.013333, 'sim_z_offset': -3.349067460718516, 'ra_nom': 40.67423912788944, 'ccds0_on': 'Y', 'defocus': 0.001444936568705701, 'sim_z': -186.7834551222893, 'kalman_tstart': 344853869.83386177, 'obs_id': 9148, 'instrume': 'ACIS', 'tstart': 344852685.9588, 'grating': 'HETG', 'obsid_tstart': 344851559.4837477, 'detector': 'ACIS-S', 'ascdsver': '7.6.11.9', 'kalman_tstop': 344934755.66288537, 'sim_y': 0.0, 'revision': 1, 'dec_nom': -0.01468732104276346, 'kalman_datestart': '2008:340:08:43:25.650', 'dither_y_phase': None, 'sched_start': 344854054.184, 'ccds3_on': 'Y', 'dither_z_freq': None, 'obsid_idstart': 344851559, 'dither_z_amp': None, 'y_det_offset': 0.0, 'roll_nom': 312.1566290001749, 'ccdi0_on': 'N', 'ra_targ': 40.669583, 'ccdi3_on': 'N', 'obsid_datestop': '2008:341:07:14:30.854', 'date_obs': '2008-12-05T08:24:45', 'obi': 0, 'radial_offset': 0.0, 'dropped_chip_count': 0, 'ccds5_on': 'Y', 'seq_num': '701591', 'obsid_tstop': 344934935.03789425, 'detnam': 'ACIS-456789', 'kalman_datestop': '2008:341:07:11:31.479', 'foc_len': 10070.0, 'ccds2_on': 'Y', 'tstop': 344935073.4129, 'dither_y_amp': None, 'sim_x': -0.6828225247311905, 'sched_stop': 344934754.184, 'ccdi2_on': 'N'}\n",
      "making pos.pkl for 9148\n",
      "no sources in /export/jeanconn/tempdir/tmpE5oPIT/acisf10489N002_evt2.fits\n",
      "Remaking /proj/sot/ska/analysis/periscope_tilt_2016/auto/obs10534/point_source.fits\n",
      "making released_pos.pkl for 10534\n",
      "{'dec_pnt': 51.05436526000248, 'ccds4_on': 'N', 'roll_pnt': 130.0499403473574, 'ccdi1_on': 'Y', 'readmode': 'TIMED', 'datamode': 'VFAINT', 'kalman_done': 1, 'date_end': '2009-01-28T16:19:11', 'dither_y_freq': None, 'z_det_offset': -0.25, 'ra_pnt': 162.3266791389327, 'sched_exp_time': 102977.471, 'obsid': 10534, 'si_mode': 'TE_00714', 'obi_num': 0, 'obsid_datestart': '2009:027:11:05:50.077', 'ccds1_on': 'N', 'num_ccd_on': 6, 'obs_mode': 'POINTING', 'dither_z_phase': None, 'dec_targ': 51.05, 'sim_z_offset': -0.005018542100998502, 'ra_nom': 162.3266791389327, 'ccds0_on': 'N', 'defocus': 0.001439871863259334, 'sim_z': -233.5874344608287, 'kalman_tstart': 349443389.56086785, 'obs_id': 10534, 'instrume': 'ACIS', 'tstart': 349442363.53582, 'grating': 'NONE', 'obsid_tstart': 349441614.26078, 'detector': 'ACIS-I', 'ascdsver': '7.6.11.10', 'kalman_tstop': 349546513.7909806, 'sim_y': 0.0, 'revision': 1, 'dec_nom': 51.05436526000248, 'kalman_datestart': '2009:027:11:35:25.377', 'dither_y_phase': None, 'sched_start': 349443535.184, 'ccds3_on': 'Y', 'dither_z_freq': None, 'obsid_idstart': 349441614, 'dither_z_amp': None, 'y_det_offset': -0.2, 'roll_nom': 130.0499403473574, 'ccdi0_on': 'Y', 'ra_targ': 162.3375, 'ccdi3_on': 'Y', 'obsid_datestop': '2009:028:16:17:08.982', 'date_obs': '2009-01-27T11:19:23', 'obi': 0, 'radial_offset': 0.0, 'dropped_chip_count': 0, 'ccds5_on': 'N', 'seq_num': '600727', 'obsid_tstop': 349546693.16598946, 'detnam': 'ACIS-012367', 'kalman_datestop': '2009:028:16:14:09.607', 'foc_len': 10070.0, 'ccds2_on': 'Y', 'tstop': 349546751.07849, 'dither_y_amp': None, 'sim_x': -0.7809083437167272, 'sched_stop': 349546512.184, 'ccdi2_on': 'Y'}\n",
      "making pos.pkl for 10534\n",
      "Remaking /proj/sot/ska/analysis/periscope_tilt_2016/auto/obs10743/point_source.fits\n",
      "making released_pos.pkl for 10743\n",
      "{'dec_pnt': -9.723707694831425, 'ccds4_on': 'N', 'roll_pnt': 328.1424197465248, 'ccdi1_on': 'Y', 'readmode': 'TIMED', 'datamode': 'VFAINT', 'kalman_done': 1, 'date_end': '2009-02-18T13:31:39', 'dither_y_freq': None, 'z_det_offset': 2.0, 'ra_pnt': 137.4223660782801, 'sched_exp_time': 95187.0, 'obsid': 10743, 'si_mode': 'TE_00458', 'obi_num': 0, 'obsid_datestart': '2009:048:10:17:51.617', 'ccds1_on': 'N', 'num_ccd_on': 5, 'obs_mode': 'POINTING', 'dither_z_phase': None, 'dec_targ': -9.691667, 'sim_z_offset': -0.005018542100998502, 'ra_nom': 137.4223660782801, 'ccds0_on': 'N', 'defocus': 0.001439871863259334, 'sim_z': -233.5874344608287, 'kalman_tstart': 351254896.7507373, 'obs_id': 10743, 'instrume': 'ACIS', 'tstart': 351253901.47569, 'grating': 'NONE', 'obsid_tstart': 351253135.80064994, 'detector': 'ACIS-I', 'ascdsver': '7.6.11.10', 'kalman_tstop': 351350277.10547036, 'sim_y': 0.0, 'revision': 1, 'dec_nom': -9.723707694831425, 'kalman_datestart': '2009:048:10:47:12.567', 'dither_y_phase': None, 'sched_start': 351255088.184, 'ccds3_on': 'N', 'dither_z_freq': None, 'obsid_idstart': 351253135, 'dither_z_amp': None, 'y_det_offset': 0.0, 'roll_nom': 328.1424197465248, 'ccdi0_on': 'Y', 'ra_targ': 137.4375, 'ccdi3_on': 'Y', 'obsid_datestop': '2009:049:13:19:51.271', 'date_obs': '2009-02-17T10:31:41', 'obi': 0, 'radial_offset': 0.0, 'dropped_chip_count': 0, 'ccds5_on': 'N', 'seq_num': '800844', 'obsid_tstop': 351350455.4554792, 'detnam': 'ACIS-01236', 'kalman_datestop': '2009:049:13:16:52.921', 'foc_len': 10070.0, 'ccds2_on': 'Y', 'tstop': 351351099.66801, 'dither_y_amp': None, 'sim_x': -0.7809083437167272, 'sched_stop': 351350275.184, 'ccdi2_on': 'Y'}\n",
      "making pos.pkl for 10743\n",
      "Remaking /proj/sot/ska/analysis/periscope_tilt_2016/auto/obs10879/point_source.fits\n",
      "making released_pos.pkl for 10879\n",
      "{'dec_pnt': 7.024135159401718, 'ccds4_on': 'Y', 'roll_pnt': 112.1571100244977, 'ccdi1_on': 'N', 'readmode': 'TIMED', 'datamode': 'VFAINT', 'kalman_done': 1, 'date_end': '2009-04-06T21:56:17', 'dither_y_freq': None, 'z_det_offset': -0.25, 'ra_pnt': 229.1814719946539, 'sched_exp_time': 82118.0, 'obsid': 10879, 'si_mode': 'TE_0045A', 'obi_num': 0, 'obsid_datestart': '2009:095:22:22:19.971', 'ccds1_on': 'Y', 'num_ccd_on': 5, 'obs_mode': 'POINTING', 'dither_z_phase': None, 'dec_targ': 7.021278, 'sim_z_offset': 0.00754346686406393, 'ra_nom': 229.1814719946539, 'ccds0_on': 'N', 'defocus': 0.001444936568705701, 'sim_z': -190.1400660498719, 'kalman_tstart': 355359054.35459286, 'obs_id': 10879, 'instrume': 'ACIS', 'tstart': 355358088.80454, 'grating': 'NONE', 'obsid_tstart': 355357406.1545108, 'detector': 'ACIS-S', 'ascdsver': '7.6.11.10', 'kalman_tstop': 355441313.68367124, 'sim_y': 0.0, 'revision': 1, 'dec_nom': 7.024135159401718, 'kalman_datestart': '2009:095:22:49:48.171', 'dither_y_phase': None, 'sched_start': 355359194.184, 'ccds3_on': 'Y', 'dither_z_freq': None, 'obsid_idstart': 355357406, 'dither_z_amp': None, 'y_det_offset': 0.0, 'roll_nom': 112.1571100244977, 'ccdi0_on': 'N', 'ra_targ': 229.185417, 'ccdi3_on': 'Y', 'obsid_datestop': '2009:096:21:43:46.875', 'date_obs': '2009-04-05T22:34:48', 'obi': 0, 'radial_offset': 0.0, 'dropped_chip_count': 0, 'ccds5_on': 'N', 'seq_num': '800835', 'obsid_tstop': 355441493.0586802, 'detnam': 'ACIS-35678', 'kalman_datestop': '2009:096:21:40:47.500', 'foc_len': 10070.0, 'ccds2_on': 'Y', 'tstop': 355442177.75871, 'dither_y_amp': None, 'sim_x': -0.6828225247311905, 'sched_stop': 355441312.184, 'ccdi2_on': 'N'}\n",
      "making pos.pkl for 10879"
     ]
    }
   ],
   "source": [
    "import tilt.find_sources\n",
    "tilt.find_sources.get_xray_data(just_long['obsid'])"
   ]
  },
  {
   "cell_type": "code",
   "execution_count": null,
   "metadata": {
    "collapsed": true
   },
   "outputs": [],
   "source": []
  },
  {
   "cell_type": "markdown",
   "metadata": {},
   "source": [
    "Run one script that makes ds9 preview images of the sources, and another that quickly lets one manually review those images.  review_images is set to only review sources that show up with 2500 counts or more."
   ]
  },
  {
   "cell_type": "code",
   "execution_count": null,
   "metadata": {
    "collapsed": true
   },
   "outputs": [],
   "source": [
    "# run tilt/make_check_images.py\n",
    "# run tilt/review_images.py"
   ]
  },
  {
   "cell_type": "markdown",
   "metadata": {},
   "source": [
    "For each source, we have several useful files in the obsid directories.  \n",
    "\n",
    "- picked_src.dat information from celldetect about the picked/selected source\n",
    "- point_source.fits dmcopy/extracted region of events from evt2 file from the observation\n",
    "- point_stat.dat text file with True or False indicating point-source-ness from manual review\n",
    "- released_pos.pkl Y,Z positions of events in the circular region extracted around the source"
   ]
  },
  {
   "cell_type": "code",
   "execution_count": null,
   "metadata": {
    "collapsed": false
   },
   "outputs": [],
   "source": [
    "!ls auto/obs17128"
   ]
  },
  {
   "cell_type": "markdown",
   "metadata": {},
   "source": [
    "And a master file with the sources"
   ]
  },
  {
   "cell_type": "code",
   "execution_count": null,
   "metadata": {
    "collapsed": false
   },
   "outputs": [],
   "source": [
    "srcs = Table.read('src_table.dat', format='ascii')\n",
    "print srcs[['obsid','NET_COUNTS','point_source']][:1]"
   ]
  },
  {
   "cell_type": "markdown",
   "metadata": {},
   "source": [
    "## Evaluate "
   ]
  },
  {
   "cell_type": "code",
   "execution_count": null,
   "metadata": {
    "collapsed": true
   },
   "outputs": [],
   "source": [
    "# this would probably be nicer with scipy.stats.binned_statistic, but that doesn't\n",
    "# give me nice error bars, and this was hanging around\n",
    "def binned_mean(data, evtstime, tbin=10000.):\n",
    "    ts = []\n",
    "    ds = []\n",
    "    dsminus = []\n",
    "    dsplus = []\n",
    "    for win_start in range(0,\n",
    "                           int(evtstime[-1]-evtstime[0])-int(tbin),\n",
    "                           int(tbin)):\n",
    "        tmask = ((evtstime-evtstime[0] >= win_start)\n",
    "                 & (evtstime-evtstime[0] < win_start + int(tbin)))\n",
    "        range_data = data[tmask]\n",
    "        range_time = evtstime[tmask]\n",
    "        if np.std(range_data) > 0:\n",
    "            ds.append(np.mean(range_data))\n",
    "            dsminus.append(np.std(range_data)/np.sqrt(len(range_data)))\n",
    "            dsplus.append(np.std(range_data)/np.sqrt(len(range_data)))\n",
    "            t = np.mean(range_time)\n",
    "            ts.append(t)\n",
    "    return [ts, ds, dsminus, dsplus]"
   ]
  },
  {
   "cell_type": "markdown",
   "metadata": {},
   "source": [
    "First, here's a demo image of one of these 'pointy' sources:"
   ]
  },
  {
   "cell_type": "code",
   "execution_count": null,
   "metadata": {
    "collapsed": false
   },
   "outputs": [],
   "source": [
    "obsid = 17128\n",
    "Image(\"auto/obs{:05d}/ds9_src.png\".format(obsid))"
   ]
  },
  {
   "cell_type": "markdown",
   "metadata": {},
   "source": [
    "And if we plot up the Y-angle position of the events binned by time there does appear to be drift."
   ]
  },
  {
   "cell_type": "code",
   "execution_count": null,
   "metadata": {
    "collapsed": false
   },
   "outputs": [],
   "source": [
    "obsid = 17128\n",
    "pos = cPickle.load(open('auto/obs{:05d}/released_pos.pkl'.format(obsid)))\n",
    "ts, ds, dsminus, dsplus = binned_mean(pos['yag'], pos['time'], 10000)\n",
    "errorbar(ts, ds, yerr=dsminus, linestyle='');\n",
    "ylabel('event y-angle (arcsec)')\n",
    "margins(x=.1)\n",
    "title('obsid {} y-angle of src (5ks bins)'.format(obsid));"
   ]
  },
  {
   "cell_type": "markdown",
   "metadata": {},
   "source": [
    "We basically care about this in aggregate for this whole source set, about each sources mean position.  First, just this source:"
   ]
  },
  {
   "cell_type": "code",
   "execution_count": null,
   "metadata": {
    "collapsed": false
   },
   "outputs": [],
   "source": [
    "hist(ds - np.mean(ds), bins=arange(-.5, .5, .05), log=True);"
   ]
  },
  {
   "cell_type": "code",
   "execution_count": null,
   "metadata": {
    "collapsed": false
   },
   "outputs": [],
   "source": [
    "# then all of the sources we've marked as point sources thus far with NET_COUNTS > 2500\n",
    "binsize = 10000\n",
    "bin_residuals = []\n",
    "bin_obsids = []\n",
    "obsids = []\n",
    "per_obs_p2p = []\n",
    "per_obs_std = []\n",
    "ax = 'yag'\n",
    "for obsid in srcs[(srcs['NET_COUNTS'] > 2500) & (srcs['point_source'] == 'True')]['obsid']:\n",
    "    pkl = 'auto/obs{:05d}/released_pos.pkl'.format(obsid)\n",
    "    if not os.path.exists(pkl):\n",
    "        continue\n",
    "    pos = cPickle.load(open(pkl))\n",
    "    ts, ds, dsminus, dsplus = binned_mean(pos[ax], pos['time'], binsize)\n",
    "    bin_residuals.extend((ds - np.mean(ds)).tolist())\n",
    "    bin_obsids.extend(np.repeat(obsid, len(ds)))\n",
    "    obsids.append(obsid)\n",
    "    per_obs_p2p.append(np.max(ds - np.mean(ds)) - np.min(ds - np.mean(ds)))\n",
    "    per_obs_std.append(np.std(ds - np.mean(ds)))\n",
    "bin_obsids = np.array(bin_obsids)\n",
    "bin_residuals = np.array(bin_residuals)"
   ]
  },
  {
   "cell_type": "code",
   "execution_count": null,
   "metadata": {
    "collapsed": false
   },
   "outputs": [],
   "source": [
    "len(obsids)"
   ]
  },
  {
   "cell_type": "code",
   "execution_count": null,
   "metadata": {
    "collapsed": false
   },
   "outputs": [],
   "source": [
    "step = 0.025\n",
    "hist(bin_residuals, bins=arange(np.min(bin_residuals), np.max(bin_residuals) + step, step), log=True);"
   ]
  },
  {
   "cell_type": "code",
   "execution_count": null,
   "metadata": {
    "collapsed": false
   },
   "outputs": [],
   "source": [
    "hist(per_obs_p2p, bins=arange(0, .36, .025));"
   ]
  },
  {
   "cell_type": "code",
   "execution_count": null,
   "metadata": {
    "collapsed": false
   },
   "outputs": [],
   "source": [
    "hist(per_obs_p2p, bins=arange(0, .36, .025), cumulative=True, normed=True);\n",
    "grid();"
   ]
  },
  {
   "cell_type": "code",
   "execution_count": null,
   "metadata": {
    "collapsed": false
   },
   "outputs": [],
   "source": [
    "last_cal_observations = [10062, 10227, 10228, 11075, 11260, 11688, 11823, 12088, 5003,\n",
    "                         7077, 7079, 8922, 9133, 9218, 9407, 9532]"
   ]
  },
  {
   "cell_type": "code",
   "execution_count": null,
   "metadata": {
    "collapsed": true
   },
   "outputs": [],
   "source": []
  },
  {
   "cell_type": "code",
   "execution_count": null,
   "metadata": {
    "collapsed": false
   },
   "outputs": [],
   "source": [
    "from Ska.DBI import DBI\n",
    "sqlaca = DBI(dbi='sybase', server='sybase', user='aca_read')\n",
    "old_gradients = sqlaca.fetchall(\"\"\"select obsid, max_oobagrd3 - min_oobagrd3 as grad_diff\n",
    "from obs_periscope_tilt\n",
    "where obsid in ({})\"\"\".format(\",\".join([str(o) for o in last_cal_observations])))"
   ]
  },
  {
   "cell_type": "code",
   "execution_count": null,
   "metadata": {
    "collapsed": false
   },
   "outputs": [],
   "source": [
    "hist(old_gradients['grad_diff']);"
   ]
  },
  {
   "cell_type": "code",
   "execution_count": null,
   "metadata": {
    "collapsed": false
   },
   "outputs": [],
   "source": [
    "cal_srcs = srcs[(srcs['NET_COUNTS'] > 2500) & (srcs['point_source'] == 'True')]\n",
    "all_gradients = sqlaca.fetchall(\"\"\"select max_oobagrd3 - min_oobagrd3 as grad_diff\n",
    "from obs_periscope_tilt\n",
    "where obsid in ({})\"\"\".format(\",\".join([str(o) for o in cal_srcs['obsid']])))"
   ]
  },
  {
   "cell_type": "code",
   "execution_count": null,
   "metadata": {
    "collapsed": false
   },
   "outputs": [],
   "source": [
    "hist(all_gradients['grad_diff'], log=True);"
   ]
  },
  {
   "cell_type": "markdown",
   "metadata": {},
   "source": [
    "So, we confirm that there are both uncorrected offsets and a much larger range of periscope drifts available."
   ]
  },
  {
   "cell_type": "markdown",
   "metadata": {},
   "source": [
    "## Setup for new fit"
   ]
  },
  {
   "cell_type": "markdown",
   "metadata": {},
   "source": [
    "Because all of the X-ray events and aspect solutions are already corrected, we can either fit for an additive correction on the current model, or we can back out the current correction and fit new terms on \"raw\" data.  I have preferred the second.  There are actually two ways to get at the \"raw\" data.  The strict method would be to rerun the aspect pipeline on all observations with the periscope correction disabled, and then repeat this source extraction.  A more time-efficient method is to reverse the correction on the X-ray event Y and Z positions directly, which is what I have done.  I have, however, confirmed that the positions via this direct method are very very close to what you get if you run acis_process_events on these events using an aspect solution with the periscope correction disabled.  Let's walk through that."
   ]
  },
  {
   "cell_type": "code",
   "execution_count": null,
   "metadata": {
    "collapsed": true
   },
   "outputs": [],
   "source": [
    "import os\n",
    "from Ska.File import chdir\n",
    "from Ska.Shell import bash"
   ]
  },
  {
   "cell_type": "markdown",
   "metadata": {},
   "source": [
    "Run the current aspect pipeline with and without the periscope correction"
   ]
  },
  {
   "cell_type": "code",
   "execution_count": null,
   "metadata": {
    "collapsed": false
   },
   "outputs": [],
   "source": [
    "obsid = 11688.\n",
    "obsdir = 'runpipeline/obs{:05}'.format(obsid)\n",
    "if not os.path.exists(obsdir):\n",
    "    os.makedirs(obsdir)\n",
    "    with chdir(obsdir):\n",
    "        bash(\"python {}/runasp.py --obsid {} --param 'apply_pericorr=no' --label uncorr\".format(workdir, obsid))\n",
    "        bash(\"python {}/runasp.py --obsid {} --label corr\".format(workdir, obsid))"
   ]
  },
  {
   "cell_type": "markdown",
   "metadata": {},
   "source": [
    "Process the point source events with each aspect solution"
   ]
  },
  {
   "cell_type": "markdown",
   "metadata": {
    "collapsed": true
   },
   "source": [
    "```\n",
    "cd runpipeline\n",
    "# get other acis level 1 pieces\n",
    "arc5gl\n",
    "obsid=11688\n",
    "get acis1\n",
    "quit\n",
    "# re-extract the point source and replace the event file with the point source file\n",
    "cp ../auto/obs11688/center.reg .\n",
    "# though I just used the text from center.reg in my dmcopy\n",
    "ciao\n",
    "dmcopy acisf11688_001N002_evt1.fits'[cols  time,ra,dec,x,y,ccd_id,node_id,expno,chip,tdet,det,sky,phas,pha,pha_ro,energy,pi,fltgrade,grade, \\\n",
    "status][(x,y)=circle(4059.416856, 4091.439636, 6)]' point_evt1.fits\n",
    "mv acisf11688_001N002_evt1.fits.gz old_event_file.fits.gz\n",
    "# link the uncorrected aspect solution\n",
    "ln -s obs11688/pipeline_out/uncorr/out1/*asol* pcad_asol1.fits\n",
    "# run the ciao commands to process events \n",
    "sh ../my_repro.sh\n",
    "mv acis_dstrk_evt2.fits acis_uncorr_evt2.fits\n",
    "# link the corrected aspect solution\n",
    "rm pcad_asol1.fits\n",
    "ln -s obs11688/pipeline_out/corr/out1/*asol* pcad_asol1.fits\n",
    "sh ../my_repro.sh\n",
    "mv acis_dstrk_evt2.fits acis_corr_evt2.fits\n",
    "# make versions with computed ra dec in the files instead of as transforms\n",
    "dmcopy acis_uncorr_evt2.fits'[cols time,ra,dec,x,y]' acis_uncorr_radec_evt2.fits\n",
    "dmcopy acis_corr_evt2.fits'[cols time,ra,dec,x,y]' acis_corr_radec_evt2.fits\n",
    "```"
   ]
  },
  {
   "cell_type": "code",
   "execution_count": null,
   "metadata": {
    "collapsed": true
   },
   "outputs": [],
   "source": [
    "from astropy.table import Table\n",
    "from astropy.io import fits\n",
    "from Ska.quatutil import radec2yagzag\n",
    "from Quaternion import Quat\n",
    "from Ska.Matplotlib import plot_cxctime\n",
    "from Ska.engarchive import fetch\n",
    "from Ska.Numpy import interpolate, smooth"
   ]
  },
  {
   "cell_type": "markdown",
   "metadata": {},
   "source": [
    "Read in the events from the corrected and uncorrected sapect solutions"
   ]
  },
  {
   "cell_type": "code",
   "execution_count": null,
   "metadata": {
    "collapsed": true
   },
   "outputs": [],
   "source": [
    "uncorr = Table.read('runpipeline/acis_uncorr_radec_evt2.fits')\n",
    "uy, uz = radec2yagzag(uncorr['RA'], uncorr['DEC'], q)"
   ]
  },
  {
   "cell_type": "code",
   "execution_count": null,
   "metadata": {
    "collapsed": true
   },
   "outputs": [],
   "source": [
    "corr = Table.read('runpipeline/acis_corr_radec_evt2.fits')"
   ]
  },
  {
   "cell_type": "code",
   "execution_count": null,
   "metadata": {
    "collapsed": true
   },
   "outputs": [],
   "source": [
    "def filter_bad_telem(msid, method='nearest'):\n",
    "    # use the bad quality field to select\n",
    "    # and replace bad data in place using the given method\n",
    "    ok = msid.bads == False\n",
    "    bad = msid.bads == True\n",
    "    fix_vals = interpolate(msid.vals[ok],\n",
    "                           msid.times[ok],\n",
    "                           msid.times[bad],\n",
    "                           method=method)\n",
    "    msid.vals[bad] = fix_vals\n",
    "    return msid"
   ]
  },
  {
   "cell_type": "markdown",
   "metadata": {},
   "source": [
    "Take a corrected file, reverse the correction using the 2010 gradient values, and return \"uncorrected\" y and z."
   ]
  },
  {
   "cell_type": "code",
   "execution_count": null,
   "metadata": {
    "collapsed": true
   },
   "outputs": [],
   "source": [
    "def reverse_periscope_corr(corr_file):\n",
    "    evts = Table.read(corr_file)\n",
    "    f_corr = fits.open(corr_file)\n",
    "    q = Quat((f_corr[1].header['RA_NOM'], f_corr[1].header['DEC_NOM'], f_corr[1].header['ROLL_NOM']))\n",
    "    y, z = radec2yagzag(corr['RA'], corr['DEC'], q)\n",
    "    \n",
    "    GRADIENTS = dict(OOBAGRD3=dict(yag=6.98145650e-04,\n",
    "                                zag=9.51578351e-05,\n",
    "                                ),\n",
    "                OOBAGRD6=dict(yag=-1.67009240e-03,\n",
    "                            zag=-2.79084775e-03,\n",
    "                            ))\n",
    "    tstart = evts['time'][0]\n",
    "    tstop = evts['time'][-1]\n",
    "    gradients = fetch.MSIDset(GRADIENTS.keys(), tstart-100, tstop+100)\n",
    "    y, z = radec2yagzag(evts['RA'], evts['DEC'], q)\n",
    "    for msid in gradients:\n",
    "        # filter bad telemetry in place\n",
    "        filter_bad_telem(gradients[msid])\n",
    "        times = gradients[msid].times\n",
    "        evt_idx = np.searchsorted(times, evts['time'])\n",
    "        # find a mean gradient, because this calibration is relative to mean\n",
    "        mean_gradient = np.mean(gradients[msid].vals[evt_idx])\n",
    "        # and smooth the telemetry to deal with slow changes and large step sizes..\n",
    "        smooth_gradient = smooth(gradients[msid].vals)\n",
    "        y += (smooth_gradient[evt_idx] - mean_gradient) * GRADIENTS[msid]['yag']\n",
    "        z += (smooth_gradient[evt_idx] - mean_gradient) * GRADIENTS[msid]['zag']\n",
    "        \n",
    "    return evts['time'], y, z"
   ]
  },
  {
   "cell_type": "code",
   "execution_count": null,
   "metadata": {
    "collapsed": false
   },
   "outputs": [],
   "source": [
    "etime, y, z = reverse_periscope_corr('runpipeline/acis_corr_radec_evt2.fits')"
   ]
  },
  {
   "cell_type": "code",
   "execution_count": null,
   "metadata": {
    "collapsed": false
   },
   "outputs": [],
   "source": [
    "print np.max(np.abs(y -uy)*3600)\n",
    "figure();\n",
    "hist((y - uy) * 3600, bins=np.arange(-.025,.025, .0001));\n",
    "xlabel('y diff arcsec');"
   ]
  },
  {
   "cell_type": "code",
   "execution_count": null,
   "metadata": {
    "collapsed": false
   },
   "outputs": [],
   "source": [
    "figure()\n",
    "print np.max(np.abs(z - uz)*3600)\n",
    "hist((z - uz) * 3600, bins=np.arange(-.025,.025, .0001));\n",
    "xlabel('z diff arcsec');"
   ]
  },
  {
   "cell_type": "markdown",
   "metadata": {},
   "source": [
    "The differences between the uncorrected values and the corrected values with the inverse correction applied are negligible."
   ]
  },
  {
   "cell_type": "code",
   "execution_count": null,
   "metadata": {
    "collapsed": true
   },
   "outputs": [],
   "source": []
  }
 ],
 "metadata": {
  "kernelspec": {
   "display_name": "Python 2",
   "language": "python",
   "name": "python2"
  },
  "language_info": {
   "codemirror_mode": {
    "name": "ipython",
    "version": 2
   },
   "file_extension": ".py",
   "mimetype": "text/x-python",
   "name": "python",
   "nbconvert_exporter": "python",
   "pygments_lexer": "ipython2",
   "version": "2.7.9"
  }
 },
 "nbformat": 4,
 "nbformat_minor": 0
}
